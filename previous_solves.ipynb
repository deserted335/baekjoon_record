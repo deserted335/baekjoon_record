{
  "nbformat": 4,
  "nbformat_minor": 0,
  "metadata": {
    "colab": {
      "provenance": []
    },
    "kernelspec": {
      "name": "python3",
      "display_name": "Python 3"
    },
    "language_info": {
      "name": "python"
    }
  },
  "cells": [
    {
      "cell_type": "code",
      "execution_count": null,
      "metadata": {
        "id": "SfVGhMiXvkXB"
      },
      "outputs": [],
      "source": [
        "# 새싹 출력 중 10699\n",
        "from time import gmtime, time\n",
        "\n",
        "tm = gmtime(time() + 9 * 3600) # GMT+9\n",
        "\n",
        "print(\"%d-%02d-%02d\" %(tm.tm_year, tm.tm_mon, tm.tm_mday))"
      ]
    },
    {
      "cell_type": "code",
      "source": [
        "# 새싹 출력 중 7287\n",
        "import requests\n",
        "import bs4\n",
        "\n",
        "userId = \"ssao565\"\n",
        "res = requests.get(url=\"https://www.acmicpc.net/user/\" + userId,\n",
        "                   headers={\n",
        "                      \"user-agent\" : \"Mozilla/5.0 (Windows NT 10.0; Win64; x64) AppleWebKit/537.36 (KHTML, like Gecko) Chrome/114.0.0.0 Safari/537.36\"\n",
        "                      })\n",
        "soup = bs4.BeautifulSoup(res.text, \"html.parser\")\n",
        "\n",
        "print(soup.find('div').find('span', {'id':'u-solved'}).text)\n",
        "print(userId)\n"
      ],
      "metadata": {
        "colab": {
          "base_uri": "https://localhost:8080/"
        },
        "id": "95k_OlRwz_Bs",
        "outputId": "36ebf958-9595-4115-dfff-05ba4601fd7e"
      },
      "execution_count": null,
      "outputs": [
        {
          "output_type": "stream",
          "name": "stdout",
          "text": [
            "26\n",
            "ssao565\n"
          ]
        }
      ]
    },
    {
      "cell_type": "code",
      "source": [
        "a,b,c=map(int,input().split())\n",
        "print(a+b+c)"
      ],
      "metadata": {
        "colab": {
          "base_uri": "https://localhost:8080/"
        },
        "id": "rboUMzEeEy0I",
        "outputId": "452945c9-221c-4d7b-efea-62c05bed4c4f"
      },
      "execution_count": null,
      "outputs": [
        {
          "output_type": "stream",
          "name": "stdout",
          "text": [
            "4 44 444\n",
            "492\n"
          ]
        }
      ]
    },
    {
      "cell_type": "code",
      "source": [
        "a = int(input())\n",
        "if a >= 90 :\n",
        "  print(\"A\")\n",
        "elif a >= 80 :\n",
        "  print(\"B\")\n",
        "elif a >= 70 :\n",
        "  print(\"C\")\n",
        "elif a >= 60 :\n",
        "  print(\"D\")\n",
        "else :\n",
        "  print(\"F\")\n"
      ],
      "metadata": {
        "colab": {
          "base_uri": "https://localhost:8080/"
        },
        "id": "3MweTvGvFNQP",
        "outputId": "5cd9a06c-b5ec-4e2d-cbf0-6433c4df4d2b"
      },
      "execution_count": null,
      "outputs": [
        {
          "output_type": "stream",
          "name": "stdout",
          "text": [
            "55\n",
            "F\n"
          ]
        }
      ]
    },
    {
      "cell_type": "code",
      "source": [
        "x = int(input())\n",
        "y = int(input())\n",
        "\n",
        "if x > 0 and y > 0 : print(\"1\")\n",
        "elif x > 0 and y < 0 : print(\"4\")\n",
        "elif x < 0 and y > 0 : print(\"2\")\n",
        "else : print(\"3\")\n",
        "\n"
      ],
      "metadata": {
        "colab": {
          "base_uri": "https://localhost:8080/"
        },
        "id": "Tgy5Sfx0FyH9",
        "outputId": "cc03226b-7a08-49d8-fdd6-05ee863def75"
      },
      "execution_count": null,
      "outputs": [
        {
          "output_type": "stream",
          "name": "stdout",
          "text": [
            "9\n",
            "-13\n",
            "4\n"
          ]
        }
      ]
    },
    {
      "cell_type": "code",
      "source": [
        "year = int(input())\n",
        "\n",
        "if year % 4 != 0 : print(\"0\")\n",
        "elif year % 100 != 0 : print(\"1\")\n",
        "elif year % 400 == 0 : print(\"1\")\n",
        "else : print(\"0\")"
      ],
      "metadata": {
        "colab": {
          "base_uri": "https://localhost:8080/"
        },
        "id": "jor1SdpyKrf0",
        "outputId": "3ca2d37c-f4bb-4a2a-cbe3-3c08affc7c48"
      },
      "execution_count": null,
      "outputs": [
        {
          "output_type": "stream",
          "name": "stdout",
          "text": [
            "1999\n",
            "0\n"
          ]
        }
      ]
    },
    {
      "cell_type": "code",
      "source": [
        "import math\n",
        "m, n = map(int, input().split())\n",
        "print(abs(m - n))"
      ],
      "metadata": {
        "colab": {
          "base_uri": "https://localhost:8080/"
        },
        "id": "I1sn5d6DLrn1",
        "outputId": "80bd8377-f408-44cd-cc66-e070080c92cc"
      },
      "execution_count": null,
      "outputs": [
        {
          "output_type": "stream",
          "name": "stdout",
          "text": [
            "5 3\n",
            "2\n"
          ]
        }
      ]
    },
    {
      "cell_type": "code",
      "source": [
        "m = int(input())\n",
        "for i in range(m): print(i+1)"
      ],
      "metadata": {
        "colab": {
          "base_uri": "https://localhost:8080/"
        },
        "id": "KML3bLzAL7g7",
        "outputId": "207560f6-fd6a-4f9a-bae7-d792e91aa43e"
      },
      "execution_count": null,
      "outputs": [
        {
          "output_type": "stream",
          "name": "stdout",
          "text": [
            "5\n",
            "1\n",
            "2\n",
            "3\n",
            "4\n",
            "5\n"
          ]
        }
      ]
    },
    {
      "cell_type": "code",
      "source": [
        "m = int(input())\n",
        "ind = 1\n",
        "for i in range(m): ind *= i+1\n",
        "print(ind)"
      ],
      "metadata": {
        "colab": {
          "base_uri": "https://localhost:8080/"
        },
        "id": "Tqcq_TqIMcLY",
        "outputId": "68e83542-ddaf-4b43-b5ea-376e6a1b33d1"
      },
      "execution_count": null,
      "outputs": [
        {
          "output_type": "stream",
          "name": "stdout",
          "text": [
            "0\n",
            "1\n"
          ]
        }
      ]
    },
    {
      "cell_type": "code",
      "source": [
        "n = int(input())\n",
        "for _ in range(n):\n",
        "  a,b=map(int,input().split())\n",
        "  print(a+b)"
      ],
      "metadata": {
        "colab": {
          "base_uri": "https://localhost:8080/"
        },
        "id": "EwPm20j_MtzP",
        "outputId": "5c8ec59b-03c3-4e80-8827-52858094ac63"
      },
      "execution_count": null,
      "outputs": [
        {
          "output_type": "stream",
          "name": "stdout",
          "text": [
            "5\n",
            "1 1\n",
            "2\n",
            "2 3\n",
            "5\n",
            "3 4\n",
            "7\n",
            "9 8\n",
            "17\n",
            "5 2\n",
            "7\n"
          ]
        }
      ]
    },
    {
      "cell_type": "code",
      "source": [
        "a,b = map(int, input().split())\n",
        "while((a,b) != (0,0)):\n",
        "  print(a+b)\n",
        "  a,b = map(int, input().split())"
      ],
      "metadata": {
        "colab": {
          "base_uri": "https://localhost:8080/"
        },
        "id": "FVZsej3YNCrz",
        "outputId": "bbe0599b-55bf-44f9-ab60-f10a36c39796"
      },
      "execution_count": null,
      "outputs": [
        {
          "name": "stdout",
          "output_type": "stream",
          "text": [
            "1 1\n",
            "2\n",
            "2 3\n",
            "5\n",
            "3 4\n",
            "7\n",
            "9 8\n",
            "17\n",
            "5 2\n",
            "7\n",
            "0 0\n"
          ]
        }
      ]
    },
    {
      "cell_type": "code",
      "source": [
        "n = int(input())\n",
        "for i in range(9):\n",
        "    print(f'{n} * {i+1} = {n*(i+1)}')"
      ],
      "metadata": {
        "colab": {
          "base_uri": "https://localhost:8080/"
        },
        "id": "V4m9aIkFOhlc",
        "outputId": "6acc8ea5-628f-4bd8-db85-720fefb9f5ed"
      },
      "execution_count": null,
      "outputs": [
        {
          "output_type": "stream",
          "name": "stdout",
          "text": [
            "9\n",
            "9 * 1 = 90\n",
            "9 * 2 = 90\n",
            "9 * 3 = 90\n",
            "9 * 4 = 90\n",
            "9 * 5 = 90\n",
            "9 * 6 = 90\n",
            "9 * 7 = 90\n",
            "9 * 8 = 90\n",
            "9 * 9 = 90\n"
          ]
        }
      ]
    },
    {
      "cell_type": "code",
      "source": [
        "n = int(input())\n",
        "for i in range(n):\n",
        "    print(\"*\"*(i+1))"
      ],
      "metadata": {
        "colab": {
          "base_uri": "https://localhost:8080/"
        },
        "id": "D78-nqkHO790",
        "outputId": "bfaed13d-4590-4247-f975-d3ac31bf5e11"
      },
      "execution_count": null,
      "outputs": [
        {
          "output_type": "stream",
          "name": "stdout",
          "text": [
            "5\n",
            "*\n",
            "**\n",
            "***\n",
            "****\n",
            "*****\n"
          ]
        }
      ]
    },
    {
      "cell_type": "code",
      "source": [
        "import sys\n",
        "n = int(input())\n",
        "for _ in range(n):\n",
        "  a,b=map(int, sys.stdin.readline().rstrip().split())\n",
        "  print(a+b)"
      ],
      "metadata": {
        "id": "GjyMZ7dnPRcs"
      },
      "execution_count": null,
      "outputs": []
    },
    {
      "cell_type": "code",
      "source": [
        "a,b = map(int, input().split())\n",
        "print((a+b)*(a-b))"
      ],
      "metadata": {
        "colab": {
          "base_uri": "https://localhost:8080/"
        },
        "id": "_JwHYikJRoe8",
        "outputId": "5f90c39a-f2a1-442a-e869-343ed28ee5a3"
      },
      "execution_count": null,
      "outputs": [
        {
          "output_type": "stream",
          "name": "stdout",
          "text": [
            "3 4\n",
            "-7\n"
          ]
        }
      ]
    },
    {
      "cell_type": "code",
      "source": [
        "sum = 0\n",
        "dig = list(map(int, input().split()))\n",
        "for i in range(5):\n",
        "  sum += dig[i]**2\n",
        "print(sum%10)"
      ],
      "metadata": {
        "colab": {
          "base_uri": "https://localhost:8080/"
        },
        "id": "wHT7i4CcSAg1",
        "outputId": "243e62ec-3628-4d75-8ced-04f0d13712df"
      },
      "execution_count": null,
      "outputs": [
        {
          "output_type": "stream",
          "name": "stdout",
          "text": [
            "0 4 2 5 6\n",
            "1\n"
          ]
        }
      ]
    },
    {
      "cell_type": "code",
      "source": [
        "n, x = map(int, input().split())\n",
        "A = list(map(int, input().split()))\n",
        "for i in range(n) :\n",
        "  if A[i] < x : print(A[i])"
      ],
      "metadata": {
        "colab": {
          "base_uri": "https://localhost:8080/"
        },
        "id": "SDzI3hWoSqo1",
        "outputId": "ece7a85d-f8ac-4243-feef-41541806a57e"
      },
      "execution_count": null,
      "outputs": [
        {
          "output_type": "stream",
          "name": "stdout",
          "text": [
            "10 5\n",
            "1 10 4 9 2 3 8 5 7 6\n",
            "1\n",
            "4\n",
            "2\n",
            "3\n"
          ]
        }
      ]
    },
    {
      "cell_type": "code",
      "source": [
        "n= int(input())\n",
        "A = list(map(int, input().split()))\n",
        "x = int(input())\n",
        "cnt = 0\n",
        "for i in range(n) :\n",
        "  if A[i] == x : cnt += 1\n",
        "print(cnt)"
      ],
      "metadata": {
        "colab": {
          "base_uri": "https://localhost:8080/"
        },
        "id": "5JgtwzQqTga8",
        "outputId": "94545141-c0f9-4287-dee6-8ea9fedb7097"
      },
      "execution_count": null,
      "outputs": [
        {
          "output_type": "stream",
          "name": "stdout",
          "text": [
            "11\n",
            "1 4 1 2 4 2 4 2 3 4 4\n",
            "5\n",
            "0\n"
          ]
        }
      ]
    },
    {
      "cell_type": "code",
      "source": [
        "A = [0] * 30\n",
        "for _ in range(28) : A[int(input()) - 1] = 1\n",
        "for i in range(30) :\n",
        "  if A[i] == 0 : print(i+1)"
      ],
      "metadata": {
        "id": "XiLlvHmrUI9F"
      },
      "execution_count": null,
      "outputs": []
    },
    {
      "cell_type": "code",
      "source": [
        "m, n = map(int, input().split())\n",
        "A = [input().split() for _ in range(m)]\n",
        "B = [input().split() for _ in range(m)]\n",
        "for i in range(m):\n",
        "  for j in range(n):\n",
        "    A[i][j] = int(A[i][j]) + int(B[i][j])\n",
        "for row in A:\n",
        "  Dummy = \"\"\n",
        "  for val in row:\n",
        "    Dummy += str(val)+\" \"\n",
        "  print(Dummy)"
      ],
      "metadata": {
        "id": "F5GH9WhwNIJS"
      },
      "execution_count": null,
      "outputs": []
    },
    {
      "cell_type": "code",
      "source": [
        "# pretty 2d matrix print\n",
        "A = [[1,0], [0,1]]\n",
        "for row in A:\n",
        "  Dummy = \"\"\n",
        "  for val in row:\n",
        "    Dummy += str(val)+\" \"\n",
        "  print(Dummy)"
      ],
      "metadata": {
        "colab": {
          "base_uri": "https://localhost:8080/"
        },
        "id": "T-knvQBgSB7I",
        "outputId": "1f2d7cd5-e3a9-4ff9-f54e-cc301d13f4e1"
      },
      "execution_count": null,
      "outputs": [
        {
          "output_type": "stream",
          "name": "stdout",
          "text": [
            "1 0 \n",
            "0 1 \n"
          ]
        }
      ]
    },
    {
      "cell_type": "code",
      "source": [
        "print(ord(input()))"
      ],
      "metadata": {
        "colab": {
          "base_uri": "https://localhost:8080/"
        },
        "id": "2L9yNJUpSrbf",
        "outputId": "45689895-f1da-4a8a-de1c-623c7cb78641"
      },
      "execution_count": null,
      "outputs": [
        {
          "output_type": "stream",
          "name": "stdout",
          "text": [
            "z\n",
            "122\n"
          ]
        }
      ]
    },
    {
      "cell_type": "code",
      "source": [
        "s = input()\n",
        "a = [ord(x) for x in s]\n",
        "diff = ord('a') - ord('A')\n",
        "for i in range(len(a)):\n",
        "  if(a[i] >= ord('a') ) : a[i] = chr(a[i] - diff)\n",
        "  else : a[i] = chr(a[i] + diff)\n",
        "print(''.join(i for i in a))"
      ],
      "metadata": {
        "colab": {
          "base_uri": "https://localhost:8080/"
        },
        "id": "ozRDfkTAU_0N",
        "outputId": "db1f0e69-6964-4653-f4ea-f82ca612c247"
      },
      "execution_count": null,
      "outputs": [
        {
          "output_type": "stream",
          "name": "stdout",
          "text": [
            "WhataBeautiful\n",
            "wHATAbEAUTIFUL\n"
          ]
        }
      ]
    },
    {
      "cell_type": "code",
      "source": [
        "grd = input()\n",
        "sav = {\"A+\": 4.3, \"A0\": 4.0, \"A-\":3.7,\n",
        "       \"B+\": 3.3, \"B0\": 3.0, \"B-\":2.7,\n",
        "       \"C+\": 2.3, \"C0\": 2.0, \"C-\":1.7,\n",
        "       \"D+\": 1.3, \"D0\": 1.0, \"D-\":0.7,\n",
        "       \"F\": 0.0\n",
        "       }\n",
        "print(sav[grd])"
      ],
      "metadata": {
        "colab": {
          "base_uri": "https://localhost:8080/"
        },
        "id": "pbQEhWTsZMCD",
        "outputId": "628a3155-f74c-4527-e138-3b7ac188f137"
      },
      "execution_count": null,
      "outputs": [
        {
          "output_type": "stream",
          "name": "stdout",
          "text": [
            "F\n",
            "0.0\n"
          ]
        }
      ]
    },
    {
      "cell_type": "code",
      "source": [
        "n = int(input())\n",
        "ls = [int(i) for i in input()]\n",
        "print(sum(ls))"
      ],
      "metadata": {
        "colab": {
          "base_uri": "https://localhost:8080/"
        },
        "id": "91ff2DGNbp36",
        "outputId": "ec19b1bd-b537-4ed8-8fe0-6e79f14c4529"
      },
      "execution_count": null,
      "outputs": [
        {
          "output_type": "stream",
          "name": "stdout",
          "text": [
            "25\n",
            "7000000000000000000000000\n",
            "7\n"
          ]
        }
      ]
    },
    {
      "cell_type": "code",
      "source": [
        "n = int(input())\n",
        "ls = [int(i) for i in input().split()]\n",
        "ls.sort()\n",
        "print(ls[0], ls[-1])"
      ],
      "metadata": {
        "colab": {
          "base_uri": "https://localhost:8080/"
        },
        "id": "vzK_Q39RewBF",
        "outputId": "9b90b3fb-6734-42a2-b81f-141c55ce6f50"
      },
      "execution_count": null,
      "outputs": [
        {
          "output_type": "stream",
          "name": "stdout",
          "text": [
            "5\n",
            "20 10 35 30 7\n",
            "7 35\n"
          ]
        }
      ]
    },
    {
      "cell_type": "code",
      "source": [
        "tar = input()\n",
        "piv = ord('a')\n",
        "idxls = [-1] * 26\n",
        "for i in range(len(tar)):\n",
        "  if idxls[ord(tar[i]) - piv] == -1 : idxls[ord(tar[i]) - piv] = i\n",
        "\n",
        "for val in idxls:\n",
        "  print(val, end=\" \")"
      ],
      "metadata": {
        "colab": {
          "base_uri": "https://localhost:8080/"
        },
        "id": "s0zGhFW4gCmV",
        "outputId": "dc3c9335-d882-4fcb-fe73-89711705bb4e"
      },
      "execution_count": null,
      "outputs": [
        {
          "output_type": "stream",
          "name": "stdout",
          "text": [
            "baekjoon\n",
            "1 0 -1 -1 2 -1 -1 -1 -1 4 3 -1 -1 7 5 -1 -1 -1 -1 -1 -1 -1 -1 -1 -1 -1 "
          ]
        }
      ]
    },
    {
      "cell_type": "code",
      "source": [
        "# 10250\n",
        "idx = int(input())\n",
        "for _ in range(idx):\n",
        "  h, _, n = map(int, input().split())\n",
        "  if(n%h == 0): i = h\n",
        "  else : i = n%h\n",
        "  print(\"%d%02d\" % (i, (n-1)/h+1)) # why n - 1 ?"
      ],
      "metadata": {
        "id": "lNdraOSyj8CV"
      },
      "execution_count": null,
      "outputs": []
    },
    {
      "cell_type": "code",
      "source": [
        "# 8958\n",
        "idx = int(input())\n",
        "for _ in range(idx):\n",
        "  tar = input()\n",
        "  grd = 0\n",
        "  cnt = 0\n",
        "  for i in range(len(tar)):\n",
        "    if tar[i] == 'O' : cnt += 1\n",
        "    else : cnt = 0\n",
        "    grd += cnt\n",
        "  print(grd)"
      ],
      "metadata": {
        "colab": {
          "base_uri": "https://localhost:8080/"
        },
        "id": "RkTRXSzZsf6o",
        "outputId": "2a59405a-7daf-4550-e3dc-40cac50c9ea0"
      },
      "execution_count": null,
      "outputs": [
        {
          "output_type": "stream",
          "name": "stdout",
          "text": [
            "5\n",
            "OOXXOXXOOO\n",
            "10\n",
            "OOXXOOXXOO\n",
            "9\n",
            "OXOXOXOXOXOXOX\n",
            "7\n",
            "OOOOOOOOOO\n",
            "55\n",
            "OOOOXOOOOXOOOOX\n",
            "30\n"
          ]
        }
      ]
    },
    {
      "cell_type": "code",
      "source": [
        "# 3052\n",
        "hasit = set()\n",
        "for _ in range(10):\n",
        "  a = int(input())%42\n",
        "  if a not in hasit : hasit.add(a)\n",
        "print(len(hasit))"
      ],
      "metadata": {
        "colab": {
          "base_uri": "https://localhost:8080/"
        },
        "id": "WxHmjRPGt8rz",
        "outputId": "e4518461-7880-425f-e013-92bb21913fba"
      },
      "execution_count": null,
      "outputs": [
        {
          "output_type": "stream",
          "name": "stdout",
          "text": [
            "39\n",
            "40\n",
            "41\n",
            "42\n",
            "43\n",
            "44\n",
            "82\n",
            "83\n",
            "84\n",
            "5\n",
            "7\n"
          ]
        }
      ]
    },
    {
      "cell_type": "code",
      "source": [
        "ls = [int(i) for i in input().split()]\n",
        "\n",
        "if ls == [1,2,3,4,5,6,7,8] : print(\"ascending\")\n",
        "elif ls == [8,7,6,5,4,3,2,1] : print(\"descending\")\n",
        "else : print(\"mixed\")"
      ],
      "metadata": {
        "colab": {
          "base_uri": "https://localhost:8080/"
        },
        "id": "WD0O-NODvFdZ",
        "outputId": "120ba34d-e51d-4305-8885-215f9f521271"
      },
      "execution_count": null,
      "outputs": [
        {
          "output_type": "stream",
          "name": "stdout",
          "text": [
            "8 1 7 2 6 3 5 4\n",
            "mixed\n"
          ]
        }
      ]
    },
    {
      "cell_type": "code",
      "source": [
        "T = int(input())\n",
        "for _ in range(T):\n",
        "  n, s = input().split()\n",
        "  n = int(n)\n",
        "  dummy = \"\"\n",
        "  for chr in s: dummy += chr * n\n",
        "  print(dummy)"
      ],
      "metadata": {
        "colab": {
          "base_uri": "https://localhost:8080/"
        },
        "id": "Q9G1xDsZy59E",
        "outputId": "2069b106-c7f4-4712-f720-3408acfff9ff"
      },
      "execution_count": null,
      "outputs": [
        {
          "output_type": "stream",
          "name": "stdout",
          "text": [
            "2\n",
            "3 ABC\n",
            "AAABBBCCC\n",
            "5 /HTP\n",
            "/////HHHHHTTTTTPPPPP\n"
          ]
        }
      ]
    },
    {
      "cell_type": "code",
      "source": [
        "A = int(input())\n",
        "B = int(input())\n",
        "C = int(input())\n",
        "S = str(A*B*C)\n",
        "for i in range(10):\n",
        "  cnt = 0\n",
        "  for val in S:\n",
        "    if int(val) == i: cnt += 1\n",
        "  print(cnt)"
      ],
      "metadata": {
        "id": "Ss-B3YB0zzxh"
      },
      "execution_count": null,
      "outputs": []
    },
    {
      "cell_type": "code",
      "source": [
        "max = 0\n",
        "maxind = 0\n",
        "for i in range(9):\n",
        "  tmp = int(input())\n",
        "  if max < tmp :  # distinct 9 naturals\n",
        "    max = tmp\n",
        "    maxind = i+1\n",
        "print(max)\n",
        "print(maxind)"
      ],
      "metadata": {
        "colab": {
          "base_uri": "https://localhost:8080/"
        },
        "id": "tFcaZ9n_0xZV",
        "outputId": "eeee2a07-57e3-4f6a-8ae5-9e0f3cb960be"
      },
      "execution_count": null,
      "outputs": [
        {
          "name": "stdout",
          "output_type": "stream",
          "text": [
            "3\n",
            "29\n",
            "38\n",
            "12\n",
            "57\n",
            "74\n",
            "40\n",
            "85\n",
            "61\n"
          ]
        }
      ]
    },
    {
      "cell_type": "code",
      "source": [
        "n = int(input())\n",
        "for i in range(n):\n",
        "  stars = '*'*(i + 1)\n",
        "  empty = \" \"*(n - i - 1)\n",
        "  print(empty + stars)"
      ],
      "metadata": {
        "colab": {
          "base_uri": "https://localhost:8080/"
        },
        "id": "CZXswJkn1sAa",
        "outputId": "118bbe79-9649-4395-ec66-310594460bde"
      },
      "execution_count": null,
      "outputs": [
        {
          "output_type": "stream",
          "name": "stdout",
          "text": [
            "5\n",
            "    *\n",
            "   **\n",
            "  ***\n",
            " ****\n",
            "*****\n"
          ]
        }
      ]
    },
    {
      "cell_type": "code",
      "source": [
        "#1157\n",
        "S = input().upper()\n",
        "letters = set(S)\n",
        "letNum = {key : 0 for key in letters}\n",
        "\n",
        "for chr in letters:\n",
        "  for i in range(len(S)):\n",
        "    if S[i] == chr : letNum[chr] += 1\n",
        "\n",
        "max = -1\n",
        "for key in letNum:\n",
        "  val = letNum[key]\n",
        "  if val > max :\n",
        "    maxChr = key\n",
        "    max = val\n",
        "  elif val == max:\n",
        "    maxChr = \"?\"\n",
        "print(maxChr)"
      ],
      "metadata": {
        "colab": {
          "base_uri": "https://localhost:8080/"
        },
        "id": "g_cMPJZK3dGX",
        "outputId": "377698e8-6e0a-4663-e436-7d1f2b621ec9"
      },
      "execution_count": null,
      "outputs": [
        {
          "output_type": "stream",
          "name": "stdout",
          "text": [
            "baaa\n",
            "A\n"
          ]
        }
      ]
    },
    {
      "cell_type": "code",
      "source": [
        "N = int(input())\n",
        "tar = set(input().split())\n",
        "M = int(input())\n",
        "for val in input().split():\n",
        "  if val in tar: print(1)\n",
        "  else : print(0)"
      ],
      "metadata": {
        "colab": {
          "base_uri": "https://localhost:8080/"
        },
        "id": "yq2Ss5JJ8fOG",
        "outputId": "6a4aabb0-f66d-4f37-b307-eee885f58b28"
      },
      "execution_count": null,
      "outputs": [
        {
          "output_type": "stream",
          "name": "stdout",
          "text": [
            "5\n",
            "4 1 5 2 3\n",
            "5\n",
            "1 3 7 9 5\n",
            "1\n",
            "1\n",
            "0\n",
            "0\n",
            "1\n"
          ]
        }
      ]
    },
    {
      "cell_type": "code",
      "source": [
        "#2751\n",
        "import sys\n",
        "N = int(input())\n",
        "S = [int(sys.stdin.readline().rstrip()) for _ in range(N)]\n",
        "S.sort()\n",
        "for val in S: print(val)"
      ],
      "metadata": {
        "id": "vSE2k97-9En5"
      },
      "execution_count": null,
      "outputs": []
    },
    {
      "cell_type": "code",
      "source": [
        "import sys\n",
        "if __name__ == \"__main__\":\n",
        "  ls = []\n",
        "  N = int(input())\n",
        "  for i in range(N):\n",
        "    isEmpty = int(len(ls) == 0)\n",
        "    # inst = sys.stdin.readline().rstrip().split()\n",
        "    inst = input().split()\n",
        "    if inst[0] == \"push\":\n",
        "      ls += [int(inst[1])]\n",
        "    elif inst[0] == \"pop\":\n",
        "      if isEmpty == 1: print(-1)\n",
        "      else :\n",
        "        print(ls[-1])\n",
        "        del ls[-1]\n",
        "    elif inst[0] == \"size\":\n",
        "      print(len(ls))\n",
        "    elif inst[0] == \"empty\":\n",
        "      print(isEmpty)\n",
        "    else : # inst[0] == \"top\"\n",
        "      if isEmpty == 1: print(-1)\n",
        "      else : print(ls[-1])"
      ],
      "metadata": {
        "colab": {
          "base_uri": "https://localhost:8080/"
        },
        "id": "TWlnB9GOXbIs",
        "outputId": "ec19d888-4946-4b17-fc23-863a4c17e8a5"
      },
      "execution_count": null,
      "outputs": [
        {
          "output_type": "stream",
          "name": "stdout",
          "text": [
            "7\n",
            "pop\n",
            "-1\n",
            "top\n",
            "-1\n",
            "push 123\n",
            "top\n",
            "123\n",
            "pop\n",
            "123\n",
            "top\n",
            "-1\n",
            "pop\n",
            "-1\n"
          ]
        }
      ]
    },
    {
      "cell_type": "code",
      "source": [
        "from collections import defaultdict\n",
        "import sys\n",
        "N = int(input())\n",
        "ls = sys.stdin.readline().rstrip().split()\n",
        "lsNum = defaultdict(int)\n",
        "\n",
        "for val in ls: lsNum[val] += 1\n",
        "\n",
        "M = int(input())\n",
        "tmp = sys.stdin.readline().rstrip().split()\n",
        "for val in tmp: print(lsNum[val], end = \" \")\n",
        "\n",
        "# https://dongdongfather.tistory.com/69\n"
      ],
      "metadata": {
        "colab": {
          "base_uri": "https://localhost:8080/"
        },
        "id": "rTN94TCLZi0V",
        "outputId": "6c1e6fc8-5457-4765-c147-4c63e65c2049"
      },
      "execution_count": null,
      "outputs": [
        {
          "output_type": "stream",
          "name": "stdout",
          "text": [
            "10\n",
            "6 3 2 10 10 10 -10 -10 7 3\n",
            "8\n",
            "10 9 -5 2 3 4 5 -10\n",
            "3 0 0 1 2 0 0 2 "
          ]
        }
      ]
    },
    {
      "cell_type": "code",
      "source": [
        "# 10773\n",
        "import sys\n",
        "\n",
        "K = int(input())\n",
        "ls = []\n",
        "for _ in range(K):\n",
        "  tmp = int(input())\n",
        "  if tmp == 0 : del ls[-1]\n",
        "  else : ls.append(tmp)\n",
        "num = sum(ls)\n",
        "print(num)"
      ],
      "metadata": {
        "id": "9nNE6x2Eq0Hv"
      },
      "execution_count": null,
      "outputs": []
    },
    {
      "cell_type": "code",
      "source": [
        "#11651\n",
        "import sys\n",
        "\n",
        "if __name__ == \"__main__\":\n",
        "  N = int(input())\n",
        "  Yls = [[] for _ in range(200001)]\n",
        "\n",
        "  for _ in range(N):\n",
        "    tmp = tuple(map(int, input().split()))\n",
        "    Yls[tmp[1]+100000].append(tmp)\n",
        "  for item in Yls: item.sort(key=lambda x: x[0])\n",
        "  for item in Yls:\n",
        "    for tup in item: print(\"%d %d\" % tup)\n"
      ],
      "metadata": {
        "id": "pJiosQIP8do8"
      },
      "execution_count": null,
      "outputs": []
    },
    {
      "cell_type": "code",
      "source": [
        "if __name__ == \"__main__\":\n",
        "  N, K = map(int, input().split())\n",
        "  p = 1\n",
        "  for i in range(K): p *= N - i\n",
        "  r = 1\n",
        "  for i in range(K): r *= i + 1\n",
        "  print(p//r)\n",
        "\n",
        "\n"
      ],
      "metadata": {
        "id": "KEfKxRP5lWac"
      },
      "execution_count": null,
      "outputs": []
    },
    {
      "cell_type": "code",
      "source": [
        "# 1966\n",
        "import sys\n",
        "\n",
        "if __name__ == \"__main__\":\n",
        "  for _ in range(int(input())):\n",
        "    N, M = map(int, input().split())\n",
        "    queue = [int(i) for i in input().split()]\n",
        "    tar = M\n",
        "    cnt = 0\n",
        "    while True:\n",
        "      Largest = max(queue)\n",
        "      if queue[0] == Largest:\n",
        "        del queue[0]\n",
        "        cnt += 1\n",
        "        if tar != 0 : tar -= 1\n",
        "        else :\n",
        "          print(cnt)\n",
        "          break\n",
        "      else :\n",
        "        queue.append(queue[0])\n",
        "        del queue[0]\n",
        "        if tar != 0: tar -= 1\n",
        "        else : tar = len(queue) - 1"
      ],
      "metadata": {
        "id": "3KDB65sm1qIk"
      },
      "execution_count": null,
      "outputs": []
    },
    {
      "cell_type": "code",
      "source": [
        "n, m = map(int, input().split())\n",
        "\n",
        "# gcd\n",
        "ng, mg = n, m\n",
        "while mg != 0: ng, mg = mg, ng % mg\n",
        "print(ng)\n",
        "\n",
        "# lcm\n",
        "nl, ml = max(m, n), min(m, n)\n",
        "print(nl * (ml // ng))"
      ],
      "metadata": {
        "colab": {
          "base_uri": "https://localhost:8080/"
        },
        "id": "51WEr6v2NXvC",
        "outputId": "ccaacf69-c2d7-42d0-cb35-15e7976d53a4"
      },
      "execution_count": null,
      "outputs": [
        {
          "output_type": "stream",
          "name": "stdout",
          "text": [
            "10293 1093\n",
            "1\n",
            "11250249\n"
          ]
        }
      ]
    },
    {
      "cell_type": "code",
      "source": [
        "if __name__ == \"__main__\":\n",
        "  while True:\n",
        "    tmp = input()\n",
        "    rev = tmp[::-1]\n",
        "    if tmp == \"0\": break\n",
        "    if rev == tmp: print(\"yes\")\n",
        "    else : print(\"no\")"
      ],
      "metadata": {
        "colab": {
          "base_uri": "https://localhost:8080/"
        },
        "id": "HsqgIiUYQEhv",
        "outputId": "fb2005e6-a856-406b-92b3-5393cc7adf27"
      },
      "execution_count": null,
      "outputs": [
        {
          "name": "stdout",
          "output_type": "stream",
          "text": [
            "121\n",
            "yes\n",
            "12321\n",
            "yes\n",
            "14561\n",
            "no\n",
            "0\n"
          ]
        }
      ]
    },
    {
      "cell_type": "code",
      "source": [
        "#2775\n",
        "for _ in range(int(input())):\n",
        "  k = int(input())\n",
        "  n = int(input())\n",
        "  ls = [i+1 for i in range(n)]\n",
        "  for _ in range(k):\n",
        "    tmp = [sum(ls[:i+1]) for i in range(n)]\n",
        "    ls = tmp\n",
        "  print(ls[-1])"
      ],
      "metadata": {
        "colab": {
          "base_uri": "https://localhost:8080/"
        },
        "id": "dQV5cz4mR2HH",
        "outputId": "a2bfea9a-5cda-47ca-f37a-0187bd52198d"
      },
      "execution_count": null,
      "outputs": [
        {
          "output_type": "stream",
          "name": "stdout",
          "text": [
            "2\n",
            "1\n",
            "3\n",
            "6\n",
            "2\n",
            "3\n",
            "10\n"
          ]
        }
      ]
    },
    {
      "cell_type": "code",
      "source": [
        "#11866\n",
        "N, K = map(int, input().split())\n",
        "ls = [i+1 for i in range(N)]\n",
        "tmp = []\n",
        "pivot = 0\n",
        "tar = 0\n",
        "\n",
        "while sum(ls) != 0:\n",
        "  cnt = 0\n",
        "  while True:\n",
        "    dummy = ls[tar]\n",
        "    if dummy == 0 : tar = (tar + 1) % N\n",
        "    else :\n",
        "      cnt += 1\n",
        "      if cnt == K:\n",
        "        pivot = tar\n",
        "        tmp.append(ls[tar])\n",
        "        ls[tar] = 0\n",
        "        break\n",
        "      else : tar = (tar + 1) % N\n",
        "\n",
        "print(\"<\", end=\"\")\n",
        "print(*tmp, sep=\", \", end=\"\")\n",
        "print(\">\", end=\"\")"
      ],
      "metadata": {
        "colab": {
          "base_uri": "https://localhost:8080/"
        },
        "id": "ypjdelDtTuAM",
        "outputId": "ba3e7aa3-1f70-4dc6-c7e8-59015e9c5c3f"
      },
      "execution_count": null,
      "outputs": [
        {
          "output_type": "stream",
          "name": "stdout",
          "text": [
            "1000 999\n",
            "<999, 998, 1000, 2, 5, 9, 14, 20, 27, 35, 44, 54, 65, 77, 90, 104, 119, 135, 152, 170, 189, 209, 230, 252, 275, 299, 324, 350, 377, 405, 434, 464, 495, 527, 560, 594, 629, 665, 702, 740, 779, 819, 860, 902, 945, 989, 45, 95, 145, 196, 247, 300, 353, 407, 461, 517, 574, 632, 690, 750, 810, 872, 934, 1, 75, 146, 216, 286, 358, 429, 502, 576, 650, 725, 801, 879, 957, 47, 132, 219, 305, 390, 477, 564, 653, 742, 832, 922, 22, 123, 223, 321, 420, 520, 619, 720, 823, 925, 38, 153, 262, 372, 483, 595, 706, 818, 932, 59, 181, 303, 424, 545, 668, 789, 912, 49, 182, 314, 445, 577, 708, 841, 973, 122, 265, 404, 546, 686, 829, 970, 129, 280, 431, 581, 730, 880, 39, 202, 361, 518, 676, 836, 993, 172, 339, 505, 671, 839, 10, 192, 367, 540, 715, 889, 78, 260, 444, 624, 804, 986, 190, 381, 569, 759, 947, 155, 351, 549, 746, 940, 156, 360, 563, 767, 968, 194, 403, 614, 824, 43, 267, 484, 699, 915, 149, 378, 602, 822, 60, 292, 523, 754, 981, 234, 470, 705, 941, 199, 442, 682, 923, 185, 438, 684, 931, 204, 458, 713, 965, 242, 503, 765, 31, 308, 575, 843, 116, 396, 666, 939, 235, 512, 790, 82, 369, 651, 935, 241, 532, 817, 120, 422, 719, 18, 329, 630, 926, 251, 557, 863, 183, 498, 808, 134, 457, 774, 101, 430, 753, 86, 417, 747, 85, 423, 758, 100, 448, 783, 133, 482, 827, 180, 536, 882, 250, 605, 955, 328, 685, 55, 425, 788, 166, 541, 903, 294, 663, 50, 437, 813, 212, 597, 976, 379, 769, 169, 570, 959, 370, 771, 184, 591, 990, 411, 825, 248, 656, 80, 506, 914, 352, 778, 220, 642, 79, 519, 948, 395, 840, 288, 727, 179, 631, 87, 543, 988, 463, 907, 385, 850, 320, 785, 269, 732, 221, 689, 174, 654, 142, 628, 118, 613, 108, 607, 105, 608, 110, 617, 126, 637, 151, 662, 191, 700, 233, 745, 283, 802, 338, 867, 408, 933, 487, 21, 572, 117, 672, 236, 780, 341, 891, 466, 17, 590, 164, 734, 316, 883, 472, 42, 635, 231, 811, 406, 987, 596, 207, 798, 409, 6, 622, 249, 854, 475, 89, 714, 344, 961, 600, 246, 870, 513, 158, 797, 452, 94, 749, 410, 62, 724, 391, 53, 726, 399, 70, 755, 441, 115, 806, 497, 198, 878, 580, 290, 974, 691, 400, 112, 835, 550, 279, 982, 718, 459, 197, 911, 659, 402, 154, 894, 647, 412, 167, 916, 687, 465, 239, 991, 776, 555, 340, 127, 905, 704, 508, 310, 99, 900, 717, 533, 347, 171, 977, 815, 640, 480, 315, 148, 979, 844, 680, 538, 389, 266, 111, 969, 855, 728, 601, 489, 365, 268, 144, 32, 928, 846, 744, 649, 566, 490, 401, 331, 270, 201, 121, 56, 995, 942, 892, 856, 809, 772, 737, 701, 675, 652, 634, 618, 609, 599, 593, 598, 606, 616, 633, 648, 674, 698, 736, 770, 807, 853, 890, 938, 994, 52, 114, 200, 264, 330, 398, 488, 565, 673, 782, 877, 978, 92, 224, 327, 450, 562, 716, 862, 997, 150, 301, 449, 592, 787, 950, 131, 309, 485, 678, 876, 71, 285, 479, 697, 918, 157, 366, 586, 852, 84, 336, 573, 859, 113, 376, 655, 937, 237, 507, 816, 106, 415, 733, 37, 359, 693, 25, 357, 710, 58, 414, 781, 147, 504, 893, 278, 646, 51, 453, 868, 281, 688, 124, 530, 971, 419, 873, 319, 791, 256, 722, 211, 669, 178, 657, 177, 667, 210, 721, 255, 786, 318, 871, 418, 967, 529, 109, 695, 293, 886, 473, 74, 696, 323, 949, 558, 232, 881, 516, 206, 865, 525, 229, 913, 587, 322, 26, 761, 471, 226, 956, 711, 460, 245, 8, 796, 554, 371, 187, 985, 826, 623, 469, 326, 176, 30, 906, 793, 645, 544, 455, 373, 298, 238, 162, 96, 57, 16, 984, 963, 954, 953, 962, 983, 15, 48, 93, 161, 228, 297, 368, 454, 542, 644, 792, 904, 63, 225, 374, 526, 723, 897, 103, 333, 528, 766, 11, 282, 515, 803, 81, 384, 677, 3, 343, 658, 23, 387, 760, 159, 531, 927, 364, 800, 261, 683, 175, 620, 139, 612, 165, 664, 253, 775, 348, 908, 500, 125, 741, 375, 4, 639, 345, 19, 731, 436, 173, 887, 625, 428, 218, 975, 821, 604, 476, 335, 217, 73, 960, 888, 837, 777, 748, 712, 707, 735, 757, 812, 857, 920, 29, 140, 277, 397, 537, 739, 921, 163, 383, 583, 885, 208, 478, 820, 160, 494, 875, 302, 670, 141, 561, 69, 548, 88, 585, 222, 768, 380, 980, 589, 312, 972, 679, 435, 215, 946, 764, 553, 439, 313, 243, 128, 64, 33, 24, 40, 83, 193, 284, 386, 501, 643, 869, 130, 388, 615, 936, 325, 636, 67, 492, 924, 446, 929, 496, 76, 661, 346, 992, 703, 451, 263, 13, 849, 751, 603, 556, 539, 552, 588, 743, 848, 12, 259, 447, 756, 66, 421, 833, 289, 762, 295, 845, 443, 136, 830, 522, 354, 227, 72, 966, 952, 28, 137, 274, 427, 611, 909, 307, 638, 186, 582, 257, 834, 493, 287, 41, 895, 838, 828, 864, 958, 240, 433, 738, 195, 559, 188, 729, 432, 254, 7, 901, 899, 996, 244, 426, 709, 214, 621, 332, 930, 763, 578, 568, 681, 884, 273, 535, 138, 694, 468, 355, 337, 394, 551, 919, 456, 61, 799, 626, 660, 866, 276, 627, 356, 168, 102, 304, 511, 46, 752, 524, 579, 898, 393, 97, 944, 143, 474, 91, 874, 34, 413, 36, 910, 272, 610, 499, 584, 271, 951, 306, 795, 784, 213, 861, 296, 847, 107, 773, 943, 692, 258, 203, 547, 896, 858, 534, 342, 509, 814, 98, 362, 486, 917, 514, 510, 68, 851, 481, 964, 392, 831, 794, 416, 805, 491, 291, 467, 842, 567, 205, 521, 440, 382, 349, 311, 363, 317, 571, 462, 641, 334>"
          ]
        }
      ]
    },
    {
      "cell_type": "code",
      "source": [
        "# 10866 : Deque front(0) and back(-1)\n",
        "import sys\n",
        "\n",
        "Deque = []\n",
        "for _ in range(int(input())):\n",
        "  inst = sys.stdin.readline().rstrip().split(\" \")\n",
        "  if inst[0] == \"push_front\": Deque.insert(0, int(inst[1]))\n",
        "  elif inst[0] == \"push_back\": Deque.append(int(inst[1]))\n",
        "  elif inst[0] == \"pop_front\":\n",
        "    try:\n",
        "      print(Deque[0])\n",
        "      del Deque[0]\n",
        "    except: print(-1)\n",
        "  elif inst[0] == \"pop_back\":\n",
        "    try:\n",
        "      print(Deque[-1])\n",
        "      del Deque[-1]\n",
        "    except: print(-1)\n",
        "  elif inst[0] == \"size\": print(len(Deque))\n",
        "  elif inst[0] == \"empty\": print(int(len(Deque) == 0))\n",
        "  elif inst[0] == \"front\":\n",
        "    try: print(Deque[0])\n",
        "    except: print(-1)\n",
        "  else : # inst[0] == \"back\"\n",
        "    try: print(Deque[-1])\n",
        "    except:  print(-1)\n"
      ],
      "metadata": {
        "id": "Lv3zZfkqcXH8"
      },
      "execution_count": null,
      "outputs": []
    },
    {
      "cell_type": "code",
      "source": [
        "#7568\n",
        "\n",
        "N = int(input())\n",
        "ls = [tuple(int(i) for i in input().split()) for _ in range(N)]\n",
        "for dum in ls:\n",
        "  rank = 1\n",
        "  for i in ls:\n",
        "    if i[0] > dum[0] and i[1] > dum[1]: rank += 1\n",
        "  print(rank, end=\" \")\n"
      ],
      "metadata": {
        "colab": {
          "base_uri": "https://localhost:8080/"
        },
        "id": "SvgaYHyyZift",
        "outputId": "d60b8a97-b6d3-4fb3-ce55-987b84226dc6"
      },
      "execution_count": null,
      "outputs": [
        {
          "output_type": "stream",
          "name": "stdout",
          "text": [
            "5\n",
            "55 185\n",
            "58 183\n",
            "88 186\n",
            "60 175\n",
            "46 155\n",
            "2 2 1 2 5 "
          ]
        }
      ]
    },
    {
      "cell_type": "code",
      "source": [
        "#1436\n",
        "N = int(input())\n",
        "\n",
        "i = 0\n",
        "tmp = 0\n",
        "while i != N:\n",
        "  while True:\n",
        "    tmp += 1\n",
        "    if str(tmp).find(\"666\") >= 0: break\n",
        "  i += 1\n",
        "print(tmp)"
      ],
      "metadata": {
        "colab": {
          "base_uri": "https://localhost:8080/"
        },
        "id": "S73F_Hn2cKbk",
        "outputId": "9bf0e819-697b-47ea-a140-d149ff99e0f9"
      },
      "execution_count": null,
      "outputs": [
        {
          "output_type": "stream",
          "name": "stdout",
          "text": [
            "10000\n",
            "2666799\n"
          ]
        }
      ]
    },
    {
      "cell_type": "code",
      "source": [
        "N = int(input())\n",
        "deque = [i+1 for i in range(N)]\n",
        "counter = 0\n",
        "while N != 1:\n",
        "  counter += 1\n",
        "  if counter != len(deque) - 1: deque.append(deque[counter])\n",
        "  else : break\n",
        "  counter += 1\n",
        "print(deque[counter])"
      ],
      "metadata": {
        "colab": {
          "base_uri": "https://localhost:8080/"
        },
        "id": "sBWHnLE6fYYB",
        "outputId": "c0dd99bb-75be-4432-9248-965f94769426"
      },
      "execution_count": null,
      "outputs": [
        {
          "output_type": "stream",
          "name": "stdout",
          "text": [
            "1\n",
            "1\n"
          ]
        }
      ]
    },
    {
      "cell_type": "code",
      "source": [
        "while True:\n",
        "  tar = [int(side) for side in input().split()]\n",
        "  if tar == [0,0,0]: break\n",
        "  tar.sort()\n",
        "  if tar[2] > tar[1] + tar[0]: print(\"wrong\")\n",
        "  elif (tar[2])**2 == (tar[1])**2 + (tar[0])**2: print(\"right\")\n",
        "  else: print(\"wrong\")"
      ],
      "metadata": {
        "colab": {
          "base_uri": "https://localhost:8080/"
        },
        "id": "FYWSfd3KluKi",
        "outputId": "1dcab659-d21b-4408-c8da-345ee8b3a9da"
      },
      "execution_count": null,
      "outputs": [
        {
          "name": "stdout",
          "output_type": "stream",
          "text": [
            "6 8 10\n",
            "right\n",
            "25 52 60\n",
            "wrong\n",
            "5 12 13\n",
            "right\n",
            "0 0 0\n"
          ]
        }
      ]
    },
    {
      "cell_type": "code",
      "source": [
        "N = int(input())\n",
        "ls = [int(i) for i in input().split()]\n",
        "print((sum(ls) / N) * (100 / max(ls)))"
      ],
      "metadata": {
        "colab": {
          "base_uri": "https://localhost:8080/"
        },
        "id": "y2eb0y8cmw5x",
        "outputId": "0eb7207e-bb84-4efe-a765-4c632af569a5"
      },
      "execution_count": null,
      "outputs": [
        {
          "output_type": "stream",
          "name": "stdout",
          "text": [
            "4\n",
            "1 100 100 100\n",
            "75.25\n"
          ]
        }
      ]
    },
    {
      "cell_type": "code",
      "source": [
        "#1018\n",
        "import sys\n",
        "Wls = [\"WBWBWBWB\", \"BWBWBWBW\",\"WBWBWBWB\", \"BWBWBWBW\",\"WBWBWBWB\", \"BWBWBWBW\",\"WBWBWBWB\", \"BWBWBWBW\"]\n",
        "Bls = [\"BWBWBWBW\",\"WBWBWBWB\", \"BWBWBWBW\",\"WBWBWBWB\", \"BWBWBWBW\",\"WBWBWBWB\", \"BWBWBWBW\", \"WBWBWBWB\"]\n",
        "\n",
        "def diff(a, b):\n",
        "  res = 0\n",
        "  for i in range(8):\n",
        "    for j in range(8):\n",
        "      if a[i][j] != b[i][j]: res += 1\n",
        "  return res\n",
        "\n",
        "if __name__ == \"__main__\":\n",
        "  N, M = map(int, input().split())\n",
        "  board = [sys.stdin.readline().rstrip() for _ in range(N)]\n",
        "  min_diff = 64\n",
        "  for i in range(N-7):\n",
        "    for j in range(M-7):\n",
        "      tar = [item[j:j+8] for item in board[i:i+8]]\n",
        "      W_diff = diff(tar,Wls)\n",
        "      B_diff = diff(tar,Bls)\n",
        "      min_diff = min(min_diff, W_diff, B_diff)\n",
        "  print(min_diff)\n",
        "\n"
      ],
      "metadata": {
        "colab": {
          "base_uri": "https://localhost:8080/"
        },
        "id": "ioJrFywCoSZz",
        "outputId": "719c80a5-250f-4e57-b558-a4038348908c"
      },
      "execution_count": null,
      "outputs": [
        {
          "output_type": "stream",
          "name": "stdout",
          "text": [
            "10 13\n",
            "BBBBBBBBWBWBW\n",
            "BBBBBBBBBWBWB\n",
            "BBBBBBBBWBWBW\n",
            "BBBBBBBBBWBWB\n",
            "BBBBBBBBWBWBW\n",
            "BBBBBBBBBWBWB\n",
            "BBBBBBBBWBWBW\n",
            "BBBBBBBBBWBWB\n",
            "WWWWWWWWWWBWB\n",
            "WWWWWWWWWWBWB\n",
            "12\n"
          ]
        }
      ]
    },
    {
      "cell_type": "code",
      "source": [
        "#10845\n",
        "import sys\n",
        "\n",
        "queue = []\n",
        "if __name__==\"__main__\":\n",
        "  N = int(input())\n",
        "  for _ in range(N):\n",
        "    inst = sys.stdin.readline().rstrip().split()\n",
        "    if inst[0] == \"push\": queue.append(int(inst[1]))\n",
        "    elif inst[0] == \"pop\":\n",
        "      try:\n",
        "        print(queue[0])\n",
        "        del queue[0]\n",
        "      except:\n",
        "        print(-1)\n",
        "    elif inst[0] == \"size\": print(len(queue))\n",
        "    elif inst[0] == \"empty\": print(int(len(queue) == 0))\n",
        "    elif inst[0] == \"front\":\n",
        "      try:\n",
        "        print(queue[0])\n",
        "      except:\n",
        "        print(-1)\n",
        "    else :\n",
        "      try:\n",
        "        print(queue[-1])\n",
        "      except:\n",
        "        print(-1)"
      ],
      "metadata": {
        "id": "w6A8zI8gm59r"
      },
      "execution_count": null,
      "outputs": []
    },
    {
      "cell_type": "code",
      "source": [
        "#2798\n",
        "import sys\n",
        "\n",
        "N, M = map(int, input().split())\n",
        "cards = [int(num) for num in sys.stdin.readline().rstrip().split()]\n",
        "cards.sort()\n",
        "max_val = 0\n",
        "for i in range(N-2):\n",
        "  for j in range(i+1, N-1):\n",
        "    for k in range(j+1, N):\n",
        "      sum = cards[i] + cards[j] + cards[k]\n",
        "      if sum <= M:  max_val = max(sum, max_val)\n",
        "print(max_val)"
      ],
      "metadata": {
        "colab": {
          "base_uri": "https://localhost:8080/"
        },
        "id": "QaLo4afIq3fd",
        "outputId": "a858face-7e07-4c88-8611-bfcc091926d7"
      },
      "execution_count": null,
      "outputs": [
        {
          "output_type": "stream",
          "name": "stdout",
          "text": [
            "5 21\n",
            "5 6 7 8 9\n",
            "21\n"
          ]
        }
      ]
    },
    {
      "cell_type": "code",
      "source": [
        "#1978\n",
        "N = int(input())\n",
        "tmp = 1\n",
        "for i in range(N): tmp *= i + 1\n",
        "rev = str(tmp)[::-1]\n",
        "i = 0\n",
        "while rev[i] == \"0\": i += 1\n",
        "print(i)\n"
      ],
      "metadata": {
        "colab": {
          "base_uri": "https://localhost:8080/"
        },
        "id": "c8Lwrpo0uK6B",
        "outputId": "ef33ecb9-d098-49d2-c6c9-1e26cf81e561"
      },
      "execution_count": null,
      "outputs": [
        {
          "output_type": "stream",
          "name": "stdout",
          "text": [
            "500\n",
            "124\n"
          ]
        }
      ]
    },
    {
      "cell_type": "code",
      "source": [
        "from math import sqrt\n",
        "\n",
        "N = int(input())\n",
        "ls = [int(i) for i in input().split()]\n",
        "res = 0\n",
        "for num in ls:\n",
        "  if num == 1: continue\n",
        "  isPrime = 1\n",
        "  for i in range(1, int(sqrt(num))):\n",
        "    if num % (i+1) == 0:\n",
        "      isPrime = 0\n",
        "      break\n",
        "  if isPrime == 1: res += 1\n",
        "print(res)"
      ],
      "metadata": {
        "colab": {
          "base_uri": "https://localhost:8080/"
        },
        "id": "RmRDDXqUv0Me",
        "outputId": "5e057f0d-9a04-4fc3-a808-511766d75720"
      },
      "execution_count": null,
      "outputs": [
        {
          "output_type": "stream",
          "name": "stdout",
          "text": [
            "4\n",
            "1 3 5 7\n",
            "3\n"
          ]
        }
      ]
    },
    {
      "cell_type": "code",
      "source": [
        "#9012\n",
        "import sys\n",
        "\n",
        "N = int(input())\n",
        "for _ in range(N):\n",
        "  tar = sys.stdin.readline().rstrip()\n",
        "  flag = 0\n",
        "  ls = []\n",
        "  for par in tar:\n",
        "    if par == \"(\": ls.append(0)\n",
        "    else:\n",
        "      try: del ls[-1]\n",
        "      except:\n",
        "        flag = 1\n",
        "        break\n",
        "  if ls == [] and flag == 0: print(\"YES\")\n",
        "  else: print(\"NO\")"
      ],
      "metadata": {
        "colab": {
          "base_uri": "https://localhost:8080/"
        },
        "id": "gyn7BKYSylBB",
        "outputId": "358382ea-a87a-4dce-f48d-b53ddab99b2c"
      },
      "execution_count": null,
      "outputs": [
        {
          "output_type": "stream",
          "name": "stdout",
          "text": [
            "3\n",
            "((\n",
            "NO\n",
            "))\n",
            "NO\n",
            "())(()\n",
            "NO\n"
          ]
        }
      ]
    },
    {
      "cell_type": "code",
      "source": [
        "N = int(input())\n",
        "flag = 0\n",
        "for i in range(1,N):\n",
        "  ls = [int(num) for num in str(i)]\n",
        "  if N == (i + sum(ls)):\n",
        "    print(i)\n",
        "    flag = 1\n",
        "    break\n",
        "if flag == 0: print(0)\n"
      ],
      "metadata": {
        "id": "qYGjiIBp0jl9"
      },
      "execution_count": null,
      "outputs": []
    },
    {
      "cell_type": "code",
      "source": [
        "N = int(input())\n",
        "\n",
        "tmp = N - 1\n",
        "gen = 0\n",
        "i = 1\n",
        "while tmp > 0:\n",
        "  gen += 6\n",
        "  tmp -= gen\n",
        "  i += 1\n",
        "print(i)"
      ],
      "metadata": {
        "colab": {
          "base_uri": "https://localhost:8080/"
        },
        "id": "-2KQB2Oo2v6L",
        "outputId": "694f990a-7083-49a9-b125-56f87cd964d1"
      },
      "execution_count": null,
      "outputs": [
        {
          "output_type": "stream",
          "name": "stdout",
          "text": [
            "45\n",
            "5\n"
          ]
        }
      ]
    },
    {
      "cell_type": "code",
      "source": [
        "#10814 뭔가 ls[0]이 안 쓰이고 100000-1살 까지 될 건데 왜 잘 돌아가지\n",
        "N = int(input())\n",
        "ls = [[] for _ in range(100000)]\n",
        "\n",
        "for _ in range(N):\n",
        "  age, name = input().split()\n",
        "  ls[int(age)].append(name)\n",
        "for i in range(100000):\n",
        "  if ls[i] == []: continue\n",
        "  else:\n",
        "    for item in ls[i]: print(\"%d %s\" % (i, item), sep=\"\\n\")"
      ],
      "metadata": {
        "colab": {
          "base_uri": "https://localhost:8080/"
        },
        "id": "RrMYdGHI8cNy",
        "outputId": "4a95b78d-d449-4732-a506-9a1fd1d0c659"
      },
      "execution_count": null,
      "outputs": [
        {
          "output_type": "stream",
          "name": "stdout",
          "text": [
            "3\n",
            "21 Junkyu\n",
            "21 Dohyun\n",
            "20 Sunyoung\n",
            "20 Sunyoung\n",
            "21 Junkyu\n",
            "21 Dohyun\n"
          ]
        }
      ]
    },
    {
      "cell_type": "code",
      "source": [
        "#1874\n",
        "N = int(input())\n",
        "ls = [[] for _ in range(51)]\n",
        "\n",
        "for _ in range(N):\n",
        "  src = input()\n",
        "  ls[len(src)].append(src)\n",
        "for i in range(1, 51):\n",
        "  ls[i] = list(set(ls[i]))\n",
        "  ls[i].sort()\n",
        "for tmp in ls:\n",
        "  if tmp != []: print(*tmp, sep=\"\\n\")"
      ],
      "metadata": {
        "id": "-c41lDDP_IUc"
      },
      "execution_count": null,
      "outputs": []
    },
    {
      "cell_type": "code",
      "source": [
        "#1874 stack sequence : Top : stack[-1] Bottom : stack[0]\n",
        "# 좀 조잡한데 꼴보기도 싫어서 수정안함\n",
        "n = int(input())\n",
        "ls = [i+1 for i in range(n)]\n",
        "ptr = 0\n",
        "flag = 1\n",
        "\n",
        "stack = []\n",
        "record = []\n",
        "for _ in range(n):\n",
        "  tar = int(input())\n",
        "  if tar >= ptr + 1:\n",
        "    while tar != ptr:\n",
        "      stack.append(ls[ptr])\n",
        "      record.append(\"+\")\n",
        "      ptr += 1\n",
        "    stack.pop()\n",
        "    record.append(\"-\")\n",
        "  elif stack[-1] == tar:\n",
        "    stack.pop()\n",
        "    record.append(\"-\")\n",
        "  else:\n",
        "    flag = 0\n",
        "    break\n",
        "\n",
        "if flag == 1: print(*record, sep=\"\\n\")\n",
        "else: print(\"NO\")"
      ],
      "metadata": {
        "id": "KX5Tn_dNF_qq"
      },
      "execution_count": null,
      "outputs": []
    },
    {
      "cell_type": "code",
      "source": [
        "#4949\n",
        "while True:\n",
        "  tar = input()\n",
        "  par = []\n",
        "  if tar == \".\": break\n",
        "  flag = 0\n",
        "  for chr in tar:\n",
        "    if chr == \"[\": par.append(2)\n",
        "    elif chr == \"(\": par.append(1)\n",
        "    elif chr == \"]\":\n",
        "      try:\n",
        "        if par[-1] == 2: par.pop()\n",
        "        else:\n",
        "          flag = 1\n",
        "          break\n",
        "      except:\n",
        "        flag = 1\n",
        "        break\n",
        "    elif chr == \")\":\n",
        "      try:\n",
        "        if par[-1] == 1: par.pop()\n",
        "        else:\n",
        "          flag = 1\n",
        "          break\n",
        "      except:\n",
        "        flag = 1\n",
        "        break\n",
        "    else: continue\n",
        "  if flag == 0 and par == []: print(\"yes\")\n",
        "  else: print(\"no\")\n"
      ],
      "metadata": {
        "id": "OzzujA0IYONN"
      },
      "execution_count": null,
      "outputs": []
    },
    {
      "cell_type": "code",
      "source": [
        "#2869\n",
        "from math import ceil\n",
        "\n",
        "if __name__ == \"__main__\":\n",
        "  A, B, V = (int(i) for i in input().split())\n",
        "  step = A - B\n",
        "  print(ceil((V - A) / step) + 1)\n",
        "\n"
      ],
      "metadata": {
        "colab": {
          "base_uri": "https://localhost:8080/"
        },
        "id": "QkbbYrcWb7ys",
        "outputId": "f7b6875a-c7be-4d24-c5fa-678838f2d2e5"
      },
      "execution_count": null,
      "outputs": [
        {
          "output_type": "stream",
          "name": "stdout",
          "text": [
            "100 99 1000000000\n",
            "999999901\n"
          ]
        }
      ]
    },
    {
      "cell_type": "code",
      "source": [
        "#15829\n",
        "if __name__==\"__main__\":\n",
        "  L = int(input())\n",
        "  tar = input()\n",
        "  M = 1234567891\n",
        "  r = 31\n",
        "  sum = 0\n",
        "  for i in range(L):\n",
        "    sum += (ord(tar[i])-96)*r**i\n",
        "    sum %= M\n",
        "  print(sum)"
      ],
      "metadata": {
        "colab": {
          "base_uri": "https://localhost:8080/"
        },
        "id": "81fwxrqNckr8",
        "outputId": "9943ffd0-660d-44e4-a0e2-3124242078cc"
      },
      "execution_count": null,
      "outputs": [
        {
          "output_type": "stream",
          "name": "stdout",
          "text": [
            "1\n",
            "i\n",
            "9\n"
          ]
        }
      ]
    },
    {
      "cell_type": "code",
      "source": [
        "#18110\n",
        "from math import ceil, floor\n",
        "def custom_round(n):\n",
        "  a = n - floor(n)\n",
        "  if a >= 0.5: return ceil(n)\n",
        "  else: return floor(n)\n",
        "\n",
        "if __name__==\"__main__\":\n",
        "  n = int(input())\n",
        "  opinion = sorted([int(input()) for _ in range(n)])\n",
        "  if n == 0: print(0)\n",
        "  else:\n",
        "    naga = custom_round(n*0.15)\n",
        "    opinion = opinion[naga:n - naga]\n",
        "    print(custom_round(sum(opinion) / len(opinion)))\n"
      ],
      "metadata": {
        "id": "WeeOJXrIk87p"
      },
      "execution_count": null,
      "outputs": []
    },
    {
      "cell_type": "code",
      "source": [
        "from math import sqrt\n",
        "\n",
        "def PrimeCal(n):\n",
        "  if n == 1: return 0\n",
        "  else:\n",
        "    flag = 1\n",
        "    for i in range(1, int(sqrt(n))):\n",
        "      if n % (i+1) == 0:\n",
        "        flag = 0\n",
        "        break\n",
        "    return flag\n",
        "\n",
        "if __name__==\"__main__\":\n",
        "  ls = []\n",
        "  M, N = (int(i) for i in input().split())\n",
        "  for num in range(M, N+1):\n",
        "    if PrimeCal(num) == 1: ls.append(num)\n",
        "  print(*ls, sep=\"\\n\")"
      ],
      "metadata": {
        "id": "y9FtV_02qrx7"
      },
      "execution_count": null,
      "outputs": []
    },
    {
      "cell_type": "code",
      "source": [
        "from math import ceil, floor\n",
        "\n",
        "def custom_round(n):\n",
        "  a = n - floor(n)\n",
        "  if a >= 0.5: return ceil(n)\n",
        "  else: return floor(n)\n",
        "\n",
        "if __name__==\"__main__\":\n",
        "  N = int(input())\n",
        "  ls = sorted([int(input()) for _ in range(N)])\n",
        "  val = [0 for _ in range(8001)]\n",
        "  for item in ls: val[item+4000] += 1\n",
        "  cnt = 0\n",
        "  Ma = max(val)\n",
        "  for ind in range(8001):\n",
        "    if val[ind] == Ma :\n",
        "      cnt += 1\n",
        "      if cnt == 1 or cnt == 2: tmp = ind - 4000\n",
        "\n",
        "  print(custom_round(sum(ls)/len(ls)))\n",
        "  if N % 2 == 0: print((ls[N//2-1]+ls[N//2])/2)\n",
        "  else: print(ls[N//2])\n",
        "  print(tmp)\n",
        "  print(max(ls) - min(ls))"
      ],
      "metadata": {
        "colab": {
          "base_uri": "https://localhost:8080/"
        },
        "id": "nchQCwWNuzCl",
        "outputId": "bd3e78ea-2b79-421b-c4dc-91424fffb735"
      },
      "execution_count": null,
      "outputs": [
        {
          "output_type": "stream",
          "name": "stdout",
          "text": [
            "3\n",
            "0\n",
            "0\n",
            "-1\n",
            "0\n",
            "0\n",
            "0\n",
            "1\n"
          ]
        }
      ]
    },
    {
      "cell_type": "code",
      "source": [
        "# 마인크래프트\n",
        "from collections import defaultdict\n",
        "\n",
        "if __name__==\"__main__\":\n",
        "  N, M, B = (int(i) for i in input().split())\n",
        "  height = [[int(i) for i in input().split()] for _ in range(N)]\n",
        "  height_cnt = defaultdict(int)\n",
        "  for ls in height:\n",
        "    for item in ls:\n",
        "      height_cnt[item] += 1\n",
        "  min_ls = []\n",
        "  for key in height_cnt:\n",
        "    need_B = 0\n",
        "    time = 0\n",
        "    for other_key in height_cnt:\n",
        "      diff = key - other_key\n",
        "      if diff > 0:\n",
        "        need_B += diff * height_cnt[other_key]\n",
        "        time += diff * height_cnt[other_key]\n",
        "      elif diff == 0:\n",
        "        continue\n",
        "      else:\n",
        "        time += -2 * diff * height_cnt[other_key]\n",
        "    if need_B > B: continue\n",
        "    else: min_ls.append((time, key))\n",
        "  min_ls.sort(key=lambda x: x[0])\n",
        "  max_value = 0\n",
        "  for tup in min_ls:\n",
        "    if tup[0] == min_ls[0][0]: max_value = max(tup[1], max_value)\n",
        "  print(\"%d %d\" % (min_ls[0][0], max_value))"
      ],
      "metadata": {
        "colab": {
          "base_uri": "https://localhost:8080/"
        },
        "id": "THNppiUH0EM_",
        "outputId": "796ab14f-29a2-48e3-fbb1-de0d97464b55"
      },
      "execution_count": null,
      "outputs": [
        {
          "output_type": "stream",
          "name": "stdout",
          "text": [
            "2 2 68\n",
            "120 90\n",
            "250 170\n",
            "390 120\n"
          ]
        }
      ]
    }
  ]
}